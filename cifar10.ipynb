{
 "cells": [
  {
   "cell_type": "code",
   "execution_count": 1,
   "metadata": {
    "colab": {
     "autoexec": {
      "startup": false,
      "wait_interval": 0
     },
     "base_uri": "https://localhost:8080/",
     "height": 1003
    },
    "colab_type": "code",
    "executionInfo": {
     "elapsed": 750130,
     "status": "ok",
     "timestamp": 1525851280623,
     "user": {
      "displayName": "Phạm Nguyễn Ngọc Biên",
      "photoUrl": "//lh6.googleusercontent.com/-4CYk8qBpXlk/AAAAAAAAAAI/AAAAAAAAAaU/jYJxHXQ-wCg/s50-c-k-no/photo.jpg",
      "userId": "102688118645105028639"
     },
     "user_tz": -420
    },
    "id": "SPX8i8L1qXVy",
    "outputId": "c50e930b-da3c-4458-a871-a566dc562491"
   },
   "outputs": [
    {
     "name": "stderr",
     "output_type": "stream",
     "text": [
      "Using TensorFlow backend.\n"
     ]
    },
    {
     "name": "stdout",
     "output_type": "stream",
     "text": [
      "Downloading data from https://www.cs.toronto.edu/~kriz/cifar-10-python.tar.gz\n",
      "170500096/170498071 [==============================] - 22s 0us/step\n",
      "WARNING:tensorflow:Variable *= will be deprecated. Use variable.assign_mul if you want assignment to the variable value or 'x = x * y' if you want a new python Tensor object.\n",
      "Train on 50000 samples, validate on 10000 samples\n",
      "Epoch 1/250\n",
      "12544/50000 [======>.......................] - ETA: 27s - loss: 2.2318 - acc: 0.153750000/50000 [==============================] - 31s 625us/step - loss: 1.8665 - acc: 0.3022 - val_loss: 1.4794 - val_acc: 0.4621\n",
      "Epoch 2/250\n",
      "42752/50000 [========================>.....] - ETA: 3s - loss: 1.4580 - acc: 0.465150000/50000 [==============================] - 28s 569us/step - loss: 1.4422 - acc: 0.4717 - val_loss: 1.2453 - val_acc: 0.5534\n",
      "Epoch 3/250\n",
      "50000/50000 [==============================] - 28s 569us/step - loss: 1.2518 - acc: 0.5494 - val_loss: 1.0844 - val_acc: 0.6191\n",
      "Epoch 4/250\n",
      " 2304/50000 [>.............................] - ETA: 25s - loss: 1.1591 - acc: 0.585150000/50000 [==============================] - 28s 568us/step - loss: 1.1225 - acc: 0.5994 - val_loss: 0.9734 - val_acc: 0.6599\n",
      "Epoch 5/250\n",
      "38656/50000 [======================>.......] - ETA: 6s - loss: 1.0259 - acc: 0.636350000/50000 [==============================] - 28s 565us/step - loss: 1.0173 - acc: 0.6404 - val_loss: 0.8955 - val_acc: 0.6812\n",
      "Epoch 6/250\n",
      "50000/50000 [==============================] - 28s 569us/step - loss: 0.9425 - acc: 0.6672 - val_loss: 0.8547 - val_acc: 0.6995\n",
      "Epoch 7/250\n",
      " 1408/50000 [..............................] - ETA: 26s - loss: 0.8927 - acc: 0.683950000/50000 [==============================] - 28s 568us/step - loss: 0.8814 - acc: 0.6898 - val_loss: 0.8152 - val_acc: 0.7172\n",
      "Epoch 8/250\n",
      "37760/50000 [=====================>........] - ETA: 6s - loss: 0.8265 - acc: 0.709550000/50000 [==============================] - 28s 568us/step - loss: 0.8249 - acc: 0.7108 - val_loss: 0.7904 - val_acc: 0.7270\n",
      "Epoch 9/250\n",
      "50000/50000 [==============================] - 28s 567us/step - loss: 0.7833 - acc: 0.7272 - val_loss: 0.7521 - val_acc: 0.7363\n",
      "Epoch 10/250\n",
      " 1152/50000 [..............................] - ETA: 26s - loss: 0.7740 - acc: 0.725750000/50000 [==============================] - 29s 572us/step - loss: 0.7368 - acc: 0.7417 - val_loss: 0.7011 - val_acc: 0.7555\n",
      "Epoch 11/250\n",
      "38400/50000 [======================>.......] - ETA: 6s - loss: 0.6967 - acc: 0.755450000/50000 [==============================] - 28s 567us/step - loss: 0.6926 - acc: 0.7563 - val_loss: 0.6792 - val_acc: 0.7662\n",
      "Epoch 12/250\n",
      "50000/50000 [==============================] - 29s 571us/step - loss: 0.6600 - acc: 0.7704 - val_loss: 0.6581 - val_acc: 0.7722\n",
      "Epoch 13/250\n",
      " 1280/50000 [..............................] - ETA: 26s - loss: 0.6126 - acc: 0.789850000/50000 [==============================] - 28s 566us/step - loss: 0.6168 - acc: 0.7844 - val_loss: 0.6788 - val_acc: 0.7657\n",
      "Epoch 14/250\n",
      "37888/50000 [=====================>........] - ETA: 6s - loss: 0.5851 - acc: 0.795750000/50000 [==============================] - 28s 567us/step - loss: 0.5846 - acc: 0.7963 - val_loss: 0.6302 - val_acc: 0.7828\n",
      "Epoch 15/250\n",
      "50000/50000 [==============================] - 28s 566us/step - loss: 0.5529 - acc: 0.8084 - val_loss: 0.6286 - val_acc: 0.7821\n",
      "Epoch 16/250\n",
      "  896/50000 [..............................] - ETA: 26s - loss: 0.5469 - acc: 0.799150000/50000 [==============================] - 28s 568us/step - loss: 0.5219 - acc: 0.8180 - val_loss: 0.6091 - val_acc: 0.7935\n",
      "Epoch 17/250\n",
      "37504/50000 [=====================>........] - ETA: 6s - loss: 0.4901 - acc: 0.829850000/50000 [==============================] - 28s 566us/step - loss: 0.4924 - acc: 0.8291 - val_loss: 0.5836 - val_acc: 0.7996\n",
      "Epoch 18/250\n",
      "50000/50000 [==============================] - 28s 566us/step - loss: 0.4647 - acc: 0.8375 - val_loss: 0.5969 - val_acc: 0.7990\n",
      "Epoch 19/250\n",
      "  512/50000 [..............................] - ETA: 26s - loss: 0.4781 - acc: 0.849650000/50000 [==============================] - 28s 567us/step - loss: 0.4446 - acc: 0.8456 - val_loss: 0.5911 - val_acc: 0.8019\n",
      "Epoch 20/250\n",
      "38144/50000 [=====================>........] - ETA: 6s - loss: 0.4136 - acc: 0.854950000/50000 [==============================] - 28s 568us/step - loss: 0.4150 - acc: 0.8546 - val_loss: 0.5794 - val_acc: 0.8065\n",
      "Epoch 21/250\n",
      "50000/50000 [==============================] - 28s 566us/step - loss: 0.3895 - acc: 0.8648 - val_loss: 0.5782 - val_acc: 0.8104\n",
      "Epoch 22/250\n",
      "  768/50000 [..............................] - ETA: 26s - loss: 0.3513 - acc: 0.869850000/50000 [==============================] - 28s 568us/step - loss: 0.3702 - acc: 0.8707 - val_loss: 0.5691 - val_acc: 0.8151\n",
      "Epoch 23/250\n",
      "38144/50000 [=====================>........] - ETA: 6s - loss: 0.3493 - acc: 0.877950000/50000 [==============================] - 29s 570us/step - loss: 0.3480 - acc: 0.8783 - val_loss: 0.5924 - val_acc: 0.8104\n",
      "Epoch 24/250\n",
      "50000/50000 [==============================] - 28s 567us/step - loss: 0.3253 - acc: 0.8859 - val_loss: 0.5751 - val_acc: 0.8148\n",
      "Epoch 25/250\n",
      " 1024/50000 [..............................] - ETA: 26s - loss: 0.2656 - acc: 0.909250000/50000 [==============================] - 28s 566us/step - loss: 0.3095 - acc: 0.8909 - val_loss: 0.5871 - val_acc: 0.8118\n",
      "10000/10000 [==============================] - 3s 256us/step\n",
      "Loss: 0.587\n",
      "Accuracy: 0.812\n"
     ]
    }
   ],
   "source": [
    "import numpy as np\n",
    "\n",
    "from keras.callbacks import EarlyStopping\n",
    "from keras.datasets import cifar10\n",
    "from keras.models import Sequential\n",
    "from keras.layers.core import Dense, Dropout, Flatten\n",
    "from keras.layers.convolutional import Conv2D\n",
    "from keras.optimizers import Adam\n",
    "from keras.layers.pooling import MaxPooling2D\n",
    "from keras.utils import to_categorical\n",
    "\n",
    "if __name__ == '__main__':\n",
    "    # Load the dataset\n",
    "    (X_train, Y_train), (X_test, Y_test) = cifar10.load_data()\n",
    "\n",
    "    # Create the model\n",
    "    model = Sequential()\n",
    "\n",
    "    model.add(Conv2D(64, kernel_size=(3, 3), padding='same', activation='relu', input_shape=(32, 32, 3)))\n",
    "    model.add(Conv2D(64, kernel_size=(3, 3), padding='same', activation='relu'))\n",
    "    model.add(MaxPooling2D(pool_size=(3, 3), padding='same', strides=(2,2)))\n",
    "    model.add(Dropout(0.25))\n",
    "\n",
    "    model.add(Conv2D(128, kernel_size=(3, 3), padding='same', activation='relu'))\n",
    "    model.add(Conv2D(128, kernel_size=(3, 3), padding='same', activation='relu'))\n",
    "    model.add(MaxPooling2D(pool_size=(3, 3), padding='same', strides=(2,2)))\n",
    "    model.add(Dropout(0.25))\n",
    "\n",
    "    model.add(Flatten())\n",
    "    model.add(Dense(1024, activation='relu'))\n",
    "    model.add(Dropout(0.5))\n",
    "    model.add(Dense(512, activation='relu'))\n",
    "    model.add(Dropout(0.5))\n",
    "    model.add(Dense(10, activation='softmax'))\n",
    "\n",
    "    # Compile the model\n",
    "    model.compile(loss='categorical_crossentropy',\n",
    "                  optimizer=Adam(lr=0.0001, decay=1e-6),\n",
    "                  metrics=['accuracy'])\n",
    "\n",
    "    # Train the model\n",
    "    model.fit(X_train / 255.0, to_categorical(Y_train),\n",
    "              batch_size=128,\n",
    "              shuffle=True,\n",
    "              epochs=250,\n",
    "              validation_data=(X_test / 255.0, to_categorical(Y_test)),\n",
    "              callbacks=[EarlyStopping(min_delta=0.001, patience=3)])\n",
    "\n",
    "    # Evaluate the model\n",
    "    scores = model.evaluate(X_test / 255.0, to_categorical(Y_test))\n",
    "\n",
    "    print('Loss: %.3f' % scores[0])\n",
    "    print('Accuracy: %.3f' % scores[1])\n",
    "\n",
    "    model.save('cifar10.h5')\n"
   ]
  }
 ],
 "metadata": {
  "accelerator": "GPU",
  "colab": {
   "default_view": {},
   "name": "cifar10.ipynb",
   "provenance": [],
   "version": "0.3.2",
   "views": {}
  },
  "kernelspec": {
   "display_name": "Python 3",
   "language": "python",
   "name": "python3"
  },
  "language_info": {
   "codemirror_mode": {
    "name": "ipython",
    "version": 3
   },
   "file_extension": ".py",
   "mimetype": "text/x-python",
   "name": "python",
   "nbconvert_exporter": "python",
   "pygments_lexer": "ipython3",
   "version": "3.5.2"
  }
 },
 "nbformat": 4,
 "nbformat_minor": 1
}
